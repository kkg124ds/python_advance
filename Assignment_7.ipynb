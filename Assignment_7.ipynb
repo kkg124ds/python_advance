{
 "cells": [
  {
   "cell_type": "code",
   "execution_count": 1,
   "metadata": {},
   "outputs": [],
   "source": [
    "def count_layers(rug):\n",
    "    layers = 0\n",
    "    while rug:\n",
    "        layer = rug.pop(0)\n",
    "        if layer in rug:\n",
    "            layers += 1\n",
    "        else:\n",
    "            layers += 1\n",
    "            break\n",
    "    return layers\n"
   ]
  },
  {
   "cell_type": "code",
   "execution_count": 5,
   "metadata": {},
   "outputs": [],
   "source": [
    "##Q1.\n",
    "\n",
    "def count_layers(rug):\n",
    "    # Initialize count to 0\n",
    "    count = 0\n",
    "    # Loop through the rug until the middle row is reached\n",
    "    while len(rug) > 1:\n",
    "        # Check if the first and last row are equal\n",
    "        if rug[0] == rug[-1]:\n",
    "            # If they are equal, remove them from the rug\n",
    "            rug = rug[1:-1]\n",
    "            # Increment the count\n",
    "            count += 1\n",
    "        else:\n",
    "            # If they are not equal, break the loop\n",
    "            break\n",
    "    # Add 1 to the count to account for the middle row\n",
    "    count += 1\n",
    "    # Return the count\n",
    "    return count\n"
   ]
  },
  {
   "cell_type": "code",
   "execution_count": 6,
   "metadata": {},
   "outputs": [
    {
     "name": "stdout",
     "output_type": "stream",
     "text": [
      "4\n"
     ]
    }
   ],
   "source": [
    "print(count_layers([\n",
    "\"AABBBBBBBAA\",\n",
    "\"AABCCCCCBAA\",\n",
    "\"AABCAAACBAA\",\n",
    "\"AABCADACBAA\",\n",
    "\"AABCAAACBAA\",\n",
    "\"AABCCCCCBAA\",\n",
    "\"AABBBBBBBAA\"\n",
    "])) "
   ]
  },
  {
   "cell_type": "code",
   "execution_count": 7,
   "metadata": {},
   "outputs": [
    {
     "name": "stdout",
     "output_type": "stream",
     "text": [
      "2\n"
     ]
    }
   ],
   "source": [
    "print(count_layers([\n",
    "\"AAAA\",\n",
    "\"ABBA\",\n",
    "\"AAAA\"\n",
    "]))"
   ]
  },
  {
   "cell_type": "code",
   "execution_count": 8,
   "metadata": {},
   "outputs": [
    {
     "name": "stdout",
     "output_type": "stream",
     "text": [
      "3\n"
     ]
    }
   ],
   "source": [
    "print(count_layers([\n",
    "\"AABCCCCCBAA\",\n",
    "\"AABCAAACBAA\",\n",
    "\"AABCADACBAA\",\n",
    "\"AABCAAACBAA\",\n",
    "\"AABCCCCCBAA\"\n",
    "])) "
   ]
  },
  {
   "cell_type": "code",
   "execution_count": 9,
   "metadata": {},
   "outputs": [],
   "source": [
    "##Q2.\n",
    "\n",
    "def unique_styles(styles):\n",
    "    # Split each style string into a list of individual styles\n",
    "    style_lists = [s.split(\",\") for s in styles]\n",
    "    # Flatten the list of lists into a single list of all styles\n",
    "    all_styles = [style for style_list in style_lists for style in style_list]\n",
    "    # Use set to get the unique styles and return the length of the set\n",
    "    return len(set(all_styles))\n"
   ]
  },
  {
   "cell_type": "code",
   "execution_count": 10,
   "metadata": {},
   "outputs": [
    {
     "data": {
      "text/plain": [
       "9"
      ]
     },
     "execution_count": 10,
     "metadata": {},
     "output_type": "execute_result"
    }
   ],
   "source": [
    "unique_styles([\n",
    "\"Dub,Dancehall\",\n",
    "\"Industrial,Heavy Metal\",\n",
    "\"Techno,Dubstep\",\n",
    "\"Synth-pop,Euro-Disco\",\n",
    "\"Industrial,Techno,Minimal\"\n",
    "])"
   ]
  },
  {
   "cell_type": "code",
   "execution_count": 11,
   "metadata": {},
   "outputs": [
    {
     "data": {
      "text/plain": [
       "7"
      ]
     },
     "execution_count": 11,
     "metadata": {},
     "output_type": "execute_result"
    }
   ],
   "source": [
    "unique_styles([\n",
    "\n",
    "\"Soul\",\n",
    "\"House,Folk\",\n",
    "\"Trance,Downtempo,Big Beat,House\",\n",
    "\"Deep House\",\n",
    "\"Soul\"\n",
    "])"
   ]
  },
  {
   "cell_type": "code",
   "execution_count": 17,
   "metadata": {},
   "outputs": [],
   "source": [
    "##Q3.\n",
    "\n",
    "def is_prime(primes, target):\n",
    "    # initialize variables for the start and end of the search range\n",
    "    start = 0\n",
    "    end = len(primes) - 1\n",
    "    \n",
    "    # perform binary search until the range is exhausted\n",
    "    while start <= end:\n",
    "        # calculate the midpoint of the range\n",
    "        mid = (start + end) // 2\n",
    "        \n",
    "        # if the target number is found, return \"yes\" if it's prime, else \"no\"\n",
    "        if primes[mid] == target:\n",
    "            return \"yes\" if is_prime_number(target) else \"no\"\n",
    "        \n",
    "        # if the target number is greater than the midpoint, search the right half of the range\n",
    "        elif primes[mid] < target:\n",
    "            start = mid + 1\n",
    "        \n",
    "        # if the target number is less than the midpoint, search the left half of the range\n",
    "        else:\n",
    "            end = mid - 1\n",
    "    \n",
    "    # if the target number is not found, return \"no\"\n",
    "    return \"no\"\n",
    "    \n",
    "def is_prime_number(num):\n",
    "    # check if the number is less than 2\n",
    "    if num < 2:\n",
    "        return False\n",
    "    \n",
    "    # check if the number is divisible by any integer between 2 and its square root\n",
    "    for i in range(2, int(num**0.5) + 1):\n",
    "        if num % i == 0:\n",
    "            return False\n",
    "    \n",
    "    # if the number is not divisible by any integer between 2 and its square root, it is prime\n",
    "    return True\n"
   ]
  },
  {
   "cell_type": "code",
   "execution_count": 18,
   "metadata": {},
   "outputs": [
    {
     "data": {
      "text/plain": [
       "'yes'"
      ]
     },
     "execution_count": 18,
     "metadata": {},
     "output_type": "execute_result"
    }
   ],
   "source": [
    "primes = [2, 3, 5, 7, 11, 13, 17, 19, 23, 29, 31, 37, 41, 43, 47, 53, 59, 61, 67, 71, 73, 79, 83, 89, 97]\n",
    "is_prime(primes, 3)"
   ]
  },
  {
   "cell_type": "code",
   "execution_count": 19,
   "metadata": {},
   "outputs": [
    {
     "data": {
      "text/plain": [
       "'no'"
      ]
     },
     "execution_count": 19,
     "metadata": {},
     "output_type": "execute_result"
    }
   ],
   "source": [
    "is_prime(primes,4)"
   ]
  },
  {
   "cell_type": "code",
   "execution_count": 10,
   "metadata": {},
   "outputs": [],
   "source": [
    "##Q4.\n",
    "\n",
    "def power_ranger(n, a, b):\n",
    "    count = 0\n",
    "    for i in range(1, b+1):\n",
    "        power = i ** n\n",
    "        if power >= a and power <= b:\n",
    "            count += 1\n",
    "        elif power > b:\n",
    "            break\n",
    "    return count\n"
   ]
  },
  {
   "cell_type": "code",
   "execution_count": 16,
   "metadata": {},
   "outputs": [
    {
     "data": {
      "text/plain": [
       "3"
      ]
     },
     "execution_count": 16,
     "metadata": {},
     "output_type": "execute_result"
    }
   ],
   "source": [
    "power_ranger(4, 250, 1300)"
   ]
  },
  {
   "cell_type": "code",
   "execution_count": 11,
   "metadata": {},
   "outputs": [
    {
     "data": {
      "text/plain": [
       "2"
      ]
     },
     "execution_count": 11,
     "metadata": {},
     "output_type": "execute_result"
    }
   ],
   "source": [
    "power_ranger(2, 49, 65)"
   ]
  },
  {
   "cell_type": "code",
   "execution_count": 12,
   "metadata": {},
   "outputs": [
    {
     "data": {
      "text/plain": [
       "3"
      ]
     },
     "execution_count": 12,
     "metadata": {},
     "output_type": "execute_result"
    }
   ],
   "source": [
    "power_ranger(3, 1, 27) "
   ]
  },
  {
   "cell_type": "code",
   "execution_count": 13,
   "metadata": {},
   "outputs": [],
   "source": [
    "##Q5.\n",
    "\n",
    "def rearranged_difference(num):\n",
    "    # Convert the number to a list of digits\n",
    "    digits = list(str(num))\n",
    "    # Sort the digits in ascending and descending order\n",
    "    ascending = sorted(digits)\n",
    "    descending = sorted(digits, reverse=True)\n",
    "    # Join the sorted digits back into numbers\n",
    "    max_num = int(''.join(descending))\n",
    "    min_num = int(''.join(ascending))\n",
    "    # Calculate the difference\n",
    "    diff = max_num - min_num\n",
    "    return diff\n"
   ]
  },
  {
   "cell_type": "code",
   "execution_count": 14,
   "metadata": {},
   "outputs": [
    {
     "data": {
      "text/plain": [
       "760833"
      ]
     },
     "execution_count": 14,
     "metadata": {},
     "output_type": "execute_result"
    }
   ],
   "source": [
    "rearranged_difference(972882)"
   ]
  },
  {
   "cell_type": "code",
   "execution_count": 15,
   "metadata": {},
   "outputs": [
    {
     "data": {
      "text/plain": [
       "90981"
      ]
     },
     "execution_count": 15,
     "metadata": {},
     "output_type": "execute_result"
    }
   ],
   "source": [
    "rearranged_difference(90010)"
   ]
  },
  {
   "cell_type": "code",
   "execution_count": null,
   "metadata": {},
   "outputs": [],
   "source": []
  },
  {
   "cell_type": "code",
   "execution_count": null,
   "metadata": {},
   "outputs": [],
   "source": []
  }
 ],
 "metadata": {
  "kernelspec": {
   "display_name": "Python 3",
   "language": "python",
   "name": "python3"
  },
  "language_info": {
   "codemirror_mode": {
    "name": "ipython",
    "version": 3
   },
   "file_extension": ".py",
   "mimetype": "text/x-python",
   "name": "python",
   "nbconvert_exporter": "python",
   "pygments_lexer": "ipython3",
   "version": "3.6.5"
  }
 },
 "nbformat": 4,
 "nbformat_minor": 2
}

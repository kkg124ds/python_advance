{
 "cells": [
  {
   "cell_type": "code",
   "execution_count": 1,
   "metadata": {},
   "outputs": [],
   "source": [
    "##Q1.\n",
    "\n",
    "class Sudoku:\n",
    "    def __init__(self, board_string):\n",
    "        self.board = []\n",
    "        for i in range(0, 81, 9):\n",
    "            row = [int(c) for c in board_string[i:i+9]]\n",
    "            self.board.append(row)\n",
    "\n",
    "    def get_row(self, n):\n",
    "        return self.board[n]\n",
    "\n",
    "    def get_col(self, n):\n",
    "        return [row[n] for row in self.board]\n",
    "\n",
    "    def get_sqr(self, n, m=None):\n",
    "        if m is None:\n",
    "            # get square n\n",
    "            row_offset = (n // 3) * 3\n",
    "            col_offset = (n % 3) * 3\n",
    "            return [self.board[i][j] for i in range(row_offset, row_offset+3) for j in range(col_offset, col_offset+3)]\n",
    "        else:\n",
    "            # get square of cell (n, m)\n",
    "            sqr_row = n // 3\n",
    "            sqr_col = m // 3\n",
    "            row_offset = sqr_row * 3\n",
    "            col_offset = sqr_col * 3\n",
    "            return [self.board[i][j] for i in range(row_offset, row_offset+3) for j in range(col_offset, col_offset+3)]\n"
   ]
  },
  {
   "cell_type": "code",
   "execution_count": 6,
   "metadata": {},
   "outputs": [
    {
     "data": {
      "text/plain": [
       "[[4, 1, 7, 9, 5, 0, 0, 3, 0],\n",
       " [0, 0, 0, 0, 0, 0, 7, 0, 0],\n",
       " [0, 6, 0, 0, 0, 7, 0, 0, 0],\n",
       " [0, 5, 0, 0, 0, 9, 1, 0, 6],\n",
       " [8, 0, 0, 6, 0, 0, 0, 0, 0],\n",
       " [0, 0, 0, 0, 0, 3, 4, 0, 0],\n",
       " [9, 0, 0, 0, 0, 5, 0, 0, 0],\n",
       " [0, 0, 0, 4, 3, 0, 0, 0, 0],\n",
       " [2, 0, 0, 7, 0, 1, 5, 8, 0]]"
      ]
     },
     "execution_count": 6,
     "metadata": {},
     "output_type": "execute_result"
    }
   ],
   "source": [
    "game = Sudoku(\"417950030000000700060007000050009106800600000000003400900005000000430000200701580\")\n",
    "\n",
    "game.board\n"
   ]
  },
  {
   "cell_type": "code",
   "execution_count": 3,
   "metadata": {},
   "outputs": [
    {
     "data": {
      "text/plain": [
       "[4, 1, 7, 9, 5, 0, 0, 3, 0]"
      ]
     },
     "execution_count": 3,
     "metadata": {},
     "output_type": "execute_result"
    }
   ],
   "source": [
    "game.get_row(0)"
   ]
  },
  {
   "cell_type": "code",
   "execution_count": 4,
   "metadata": {},
   "outputs": [
    {
     "data": {
      "text/plain": [
       "[9, 5, 0, 0, 0, 0, 0, 0, 7]"
      ]
     },
     "execution_count": 4,
     "metadata": {},
     "output_type": "execute_result"
    }
   ],
   "source": [
    "game.get_sqr(1)"
   ]
  },
  {
   "cell_type": "code",
   "execution_count": 5,
   "metadata": {},
   "outputs": [
    {
     "data": {
      "text/plain": [
       "[0, 0, 5, 4, 3, 0, 7, 0, 1]"
      ]
     },
     "execution_count": 5,
     "metadata": {},
     "output_type": "execute_result"
    }
   ],
   "source": [
    "game.get_sqr(8, 3)"
   ]
  },
  {
   "cell_type": "code",
   "execution_count": 7,
   "metadata": {},
   "outputs": [],
   "source": [
    "##Q2.\n",
    "\n",
    "class ListNode:\n",
    "    def __init__(self, val=0, next=None):\n",
    "        self.val = val\n",
    "        self.next = next\n",
    "        \n",
    "    def add_data(self, data):\n",
    "        curr = self\n",
    "        for num in data:\n",
    "            curr.next = ListNode(num)\n",
    "            curr = curr.next\n",
    "            \n",
    "    def get_data(self):\n",
    "        data = []\n",
    "        curr = self\n",
    "        while curr:\n",
    "            data.append(curr.val)\n",
    "            curr = curr.next\n",
    "        return data\n",
    "\n",
    "def add_two_numbers(l1, l2):\n",
    "    carry = 0\n",
    "    dummy_head = ListNode(0)\n",
    "    curr = dummy_head\n",
    "    \n",
    "    while l1 or l2 or carry:\n",
    "        num1 = l1.val if l1 else 0\n",
    "        num2 = l2.val if l2 else 0\n",
    "        total = num1 + num2 + carry\n",
    "        carry = total // 10\n",
    "        curr.next = ListNode(total % 10)\n",
    "        curr = curr.next\n",
    "        l1 = l1.next if l1 else None\n",
    "        l2 = l2.next if l2 else None\n",
    "        \n",
    "    return dummy_head.next\n"
   ]
  },
  {
   "cell_type": "code",
   "execution_count": 8,
   "metadata": {},
   "outputs": [
    {
     "name": "stdout",
     "output_type": "stream",
     "text": [
      "[2, 4, 3]\n",
      "[5, 6, 4]\n",
      "807\n"
     ]
    },
    {
     "data": {
      "text/plain": [
       "[7, 0, 8]"
      ]
     },
     "execution_count": 8,
     "metadata": {},
     "output_type": "execute_result"
    }
   ],
   "source": [
    "lt1 = ListNode(2)\n",
    "lt1.add_data([4, 3])\n",
    "lt2 = ListNode(5)\n",
    "lt2.add_data([6, 4])\n",
    "print(lt1.get_data()) \n",
    "print(lt2.get_data()) \n",
    "print(342 + 465) \n",
    "add_two_numbers(lt1, lt2).get_data()"
   ]
  },
  {
   "cell_type": "code",
   "execution_count": 12,
   "metadata": {},
   "outputs": [
    {
     "name": "stdout",
     "output_type": "stream",
     "text": [
      "This item is currently unavailable!\n",
      "This item is currently unavailable!\n",
      "Order added!\n",
      "Order added!\n",
      "['cinnamon roll', 'iced coffee']\n",
      "6.5\n"
     ]
    }
   ],
   "source": [
    "menu = [\n",
    "    {'item': 'tuna sandwich', 'type': 'food', 'price': 6.0},\n",
    "    {'item': 'ham and cheese sandwich', 'type': 'food', 'price': 5.5},\n",
    "    {'item': 'bacon and egg', 'type': 'food', 'price': 5.0},\n",
    "    {'item': 'steak', 'type': 'food', 'price': 12.5},\n",
    "    {'item': 'hamburger', 'type': 'food', 'price': 8.0},\n",
    "    {'item': 'cinnamon roll', 'type': 'food', 'price': 4.5},\n",
    "    {'item': 'orange juice', 'type': 'drink', 'price': 3.0},\n",
    "    {'item': 'lemonade', 'type': 'drink', 'price': 2.5},\n",
    "    {'item': 'cranberry juice', 'type': 'drink', 'price': 3.5},\n",
    "    {'item': 'pineapple juice', 'type': 'drink', 'price': 3.5},\n",
    "    {'item': 'lemon iced tea', 'type': 'drink', 'price': 2.0},\n",
    "    {'item': 'vanilla chai latte', 'type': 'drink', 'price': 4.5},\n",
    "    {'item': 'hot chocolate', 'type': 'drink', 'price': 3.5},\n",
    "    {'item': 'iced coffee', 'type': 'drink', 'price': 2.0}\n",
    "]\n",
    "\n",
    "tcs = CoffeeShop('Tesha\\'s coffee shop', menu)\n",
    "\n",
    "print(tcs.add_order('hot cocoa'))\n",
    "# Output: This item is currently unavailable!\n",
    "\n",
    "print(tcs.add_order('iced tea'))\n",
    "# Output: This item is currently unavailable!\n",
    "\n",
    "print(tcs.add_order('cinnamon roll'))\n",
    "# Output: Order added!\n",
    "\n",
    "print(tcs.add_order('iced coffee'))\n",
    "# Output: Order added!\n",
    "\n",
    "print(tcs.list_orders())\n",
    "# Output: ['cinnamon roll', 'iced coffee']\n",
    "\n",
    "print(tcs.due_amount())\n",
    "# Output: 2.\n"
   ]
  },
  {
   "cell_type": "code",
   "execution_count": 5,
   "metadata": {},
   "outputs": [],
   "source": [
    "##Q3.\n",
    "\n",
    "class CoffeeShop:\n",
    "    def __init__(self, name, menu):\n",
    "        self.name = name\n",
    "        self.menu = menu\n",
    "        self.orders = []\n",
    "\n",
    "    def add_order(self, item_name):\n",
    "        for item in self.menu:\n",
    "            if item['name'] == item_name:\n",
    "                self.orders.append(item_name)\n",
    "                return 'Order added!'\n",
    "        return 'This item is currently unavailable!'\n",
    "\n",
    "    def fulfill_order(self):\n",
    "        if not self.orders:\n",
    "            return 'All orders have been fulfilled!'\n",
    "        item_name = self.orders.pop(0)\n",
    "        return f'The {item_name} is ready!'\n",
    "\n",
    "    def list_orders(self):\n",
    "        return self.orders\n",
    "\n",
    "    def due_amount(self):\n",
    "        total = 0\n",
    "        for item_name in self.orders:\n",
    "            for item in self.menu:\n",
    "                if item['name'] == item_name:\n",
    "                    total += item['price']\n",
    "        return round(total, 2)\n",
    "\n",
    "    def cheapest_item(self):\n",
    "        cheapest = self.menu[0]\n",
    "        for item in self.menu:\n",
    "            if item['price'] < cheapest['price']:\n",
    "                cheapest = item\n",
    "        return cheapest['name']\n",
    "\n",
    "    def drinks_only(self):\n",
    "        return [item['name'] for item in self.menu if item['type'] == 'drink']\n",
    "\n",
    "    def food_only(self):\n",
    "        return [item['name'] for item in self.menu if item['type'] == 'food']\n"
   ]
  },
  {
   "cell_type": "code",
   "execution_count": 9,
   "metadata": {},
   "outputs": [],
   "source": [
    "# create a CoffeeShop instance with a name and a menu of items\n",
    "menu = [\n",
    "    {'name': 'tuna sandwich', 'type': 'food', 'price': 4.99},\n",
    "    {'name': 'ham and cheese sandwich', 'type': 'food', 'price': 5.99},\n",
    "    {'name': 'bacon and egg', 'type': 'food', 'price': 3.99},\n",
    "    {'name': 'steak', 'type': 'food', 'price': 9.99},\n",
    "    {'name': 'hamburger', 'type': 'food', 'price': 6.99},\n",
    "    {'name': 'cinnamon roll', 'type': 'food', 'price': 2.17},\n",
    "    {'name': 'orange juice', 'type': 'drink', 'price': 3.99},\n",
    "    {'name': 'lemonade', 'type': 'drink', 'price': 2.99},\n",
    "    {'name': 'cranberry juice', 'type': 'drink', 'price': 4.29},\n",
    "    {'name': 'pineapple juice', 'type': 'drink', 'price': 4.29},\n",
    "    {'name': 'lemon iced tea', 'type': 'drink', 'price': 2.49},\n",
    "    {'name': 'vanilla chai latte', 'type': 'drink', 'price': 4.99},\n",
    "    {'name': 'hot chocolate', 'type': 'drink', 'price': 3.49},\n",
    "    {'name': 'iced coffee', 'type': 'drink', 'price': 2.99},\n",
    "]\n",
    "tcs = CoffeeShop('Tesha\\'s Coffee Shop', menu)\n"
   ]
  },
  {
   "cell_type": "code",
   "execution_count": 10,
   "metadata": {},
   "outputs": [
    {
     "data": {
      "text/plain": [
       "'This item is currently unavailable!'"
      ]
     },
     "execution_count": 10,
     "metadata": {},
     "output_type": "execute_result"
    }
   ],
   "source": [
    "tcs.add_order('hot cocoa')"
   ]
  },
  {
   "cell_type": "code",
   "execution_count": 11,
   "metadata": {},
   "outputs": [
    {
     "data": {
      "text/plain": [
       "'Order added!'"
      ]
     },
     "execution_count": 11,
     "metadata": {},
     "output_type": "execute_result"
    }
   ],
   "source": [
    "tcs.add_order('cinnamon roll')"
   ]
  },
  {
   "cell_type": "code",
   "execution_count": 12,
   "metadata": {},
   "outputs": [
    {
     "data": {
      "text/plain": [
       "2.17"
      ]
     },
     "execution_count": 12,
     "metadata": {},
     "output_type": "execute_result"
    }
   ],
   "source": [
    "tcs.due_amount()"
   ]
  },
  {
   "cell_type": "code",
   "execution_count": 13,
   "metadata": {},
   "outputs": [
    {
     "data": {
      "text/plain": [
       "'The cinnamon roll is ready!'"
      ]
     },
     "execution_count": 13,
     "metadata": {},
     "output_type": "execute_result"
    }
   ],
   "source": [
    "tcs.fulfill_order()"
   ]
  },
  {
   "cell_type": "code",
   "execution_count": 14,
   "metadata": {},
   "outputs": [
    {
     "data": {
      "text/plain": [
       "'All orders have been fulfilled!'"
      ]
     },
     "execution_count": 14,
     "metadata": {},
     "output_type": "execute_result"
    }
   ],
   "source": [
    "tcs.fulfill_order()"
   ]
  },
  {
   "cell_type": "code",
   "execution_count": null,
   "metadata": {},
   "outputs": [],
   "source": []
  },
  {
   "cell_type": "code",
   "execution_count": null,
   "metadata": {},
   "outputs": [],
   "source": []
  },
  {
   "cell_type": "code",
   "execution_count": null,
   "metadata": {},
   "outputs": [],
   "source": []
  },
  {
   "cell_type": "code",
   "execution_count": null,
   "metadata": {},
   "outputs": [],
   "source": []
  },
  {
   "cell_type": "code",
   "execution_count": null,
   "metadata": {},
   "outputs": [],
   "source": []
  },
  {
   "cell_type": "code",
   "execution_count": null,
   "metadata": {},
   "outputs": [],
   "source": []
  },
  {
   "cell_type": "code",
   "execution_count": null,
   "metadata": {},
   "outputs": [],
   "source": []
  }
 ],
 "metadata": {
  "kernelspec": {
   "display_name": "Python 3",
   "language": "python",
   "name": "python3"
  },
  "language_info": {
   "codemirror_mode": {
    "name": "ipython",
    "version": 3
   },
   "file_extension": ".py",
   "mimetype": "text/x-python",
   "name": "python",
   "nbconvert_exporter": "python",
   "pygments_lexer": "ipython3",
   "version": "3.6.5"
  }
 },
 "nbformat": 4,
 "nbformat_minor": 2
}

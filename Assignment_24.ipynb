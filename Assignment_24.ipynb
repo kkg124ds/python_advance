{
 "cells": [
  {
   "cell_type": "code",
   "execution_count": 30,
   "metadata": {},
   "outputs": [],
   "source": [
    "##Q3.\n",
    "\n",
    "def tic_tac_toe(board):\n",
    "    for row in board:\n",
    "        if row.count(\"X\") == 3:\n",
    "            return \"X\"\n",
    "        elif row.count(\"O\") == 3:\n",
    "            return \"O\"\n",
    "    for i in range(3):\n",
    "        if board[0][i] == board[1][i] == board[2][i]:\n",
    "            if board[0][i] == \"X\":\n",
    "                return \"X\"\n",
    "            elif board[0][i] == \"O\":\n",
    "                return \"O\"\n",
    "    if board[0][0] == board[1][1] == board[2][2] or board[0][2] == board[1][1] == board[2][0]:\n",
    "        if board[1][1] == \"X\":\n",
    "            return \"X\"\n",
    "        elif board[1][1] == \"O\":\n",
    "            return \"O\"\n",
    "    if all([board[i][j] != \"E\" for i in range(3) for j in range(3)]):\n",
    "        return \"Draw\"\n",
    "    return \"Incomplete\"\n"
   ]
  },
  {
   "cell_type": "code",
   "execution_count": 32,
   "metadata": {},
   "outputs": [
    {
     "data": {
      "text/plain": [
       "'Draw'"
      ]
     },
     "execution_count": 32,
     "metadata": {},
     "output_type": "execute_result"
    }
   ],
   "source": [
    "tic_tac_toe([\n",
    "[\"X\", \"X\",\"O\"],\n",
    "[\"O\",\"O\",\"X\" ],\n",
    "[\"X\", \"X\",\"O\"]\n",
    "])"
   ]
  },
  {
   "cell_type": "code",
   "execution_count": 33,
   "metadata": {},
   "outputs": [
    {
     "data": {
      "text/plain": [
       "'X'"
      ]
     },
     "execution_count": 33,
     "metadata": {},
     "output_type": "execute_result"
    }
   ],
   "source": [
    "tic_tac_toe([\n",
    "[\"X\", \"X\",\"X\"],\n",
    "[\"O\",\"O\",\"X\" ],\n",
    "[\"X\", \"X\",\"O\"]\n",
    "])"
   ]
  },
  {
   "cell_type": "code",
   "execution_count": 24,
   "metadata": {},
   "outputs": [],
   "source": [
    "##Q4.\n",
    "\n",
    "def remove_virus(files):\n",
    "    # Split the string into a list of file names\n",
    "    file_list = files.split(\": \")[1].split(\", \")\n",
    "    \n",
    "    # Filter out any file names that contain the word \"virus\"\n",
    "    clean_files = [file for file in file_list if \"virus\" not in file.lower()]\n",
    "    \n",
    "    # Join the remaining file names into a string\n",
    "    result = \"PC Files: \" + \", \".join(clean_files)\n",
    "    \n",
    "    return result\n"
   ]
  },
  {
   "cell_type": "code",
   "execution_count": 25,
   "metadata": {},
   "outputs": [
    {
     "data": {
      "text/plain": [
       "'PC Files: spotifysetup.exe, dog.jpg'"
      ]
     },
     "execution_count": 25,
     "metadata": {},
     "output_type": "execute_result"
    }
   ],
   "source": [
    "remove_virus(\"PC Files: spotifysetup.exe, virus.exe, dog.jpg\")"
   ]
  },
  {
   "cell_type": "code",
   "execution_count": 26,
   "metadata": {},
   "outputs": [
    {
     "data": {
      "text/plain": [
       "'PC Files: funnycat.gif'"
      ]
     },
     "execution_count": 26,
     "metadata": {},
     "output_type": "execute_result"
    }
   ],
   "source": [
    "remove_virus(\"PC Files: notvirus.exe, funnycat.gif\")"
   ]
  },
  {
   "cell_type": "code",
   "execution_count": 21,
   "metadata": {},
   "outputs": [],
   "source": [
    "##Q5.\n",
    "\n",
    "def will_hit(s, point):\n",
    "    # Parse the equation to get slope and y-intercept\n",
    "    m, b = s.split(' = ')[1].split('x')\n",
    "    m = int(m) if m != '-' else -1\n",
    "    b = int(b.strip(' +-'))\n",
    "    \n",
    "    # Check if meteor's trajectory intersects x-axis\n",
    "    if m == 0:\n",
    "        return False\n",
    "    else:\n",
    "        x = (point[1] - b) / m\n",
    "        return x >= 0 and round(x, 2) == point[0]\n"
   ]
  },
  {
   "cell_type": "code",
   "execution_count": 22,
   "metadata": {},
   "outputs": [
    {
     "data": {
      "text/plain": [
       "False"
      ]
     },
     "execution_count": 22,
     "metadata": {},
     "output_type": "execute_result"
    }
   ],
   "source": [
    "will_hit(\"y = 2x - 5\", (0, 0))"
   ]
  },
  {
   "cell_type": "code",
   "execution_count": 23,
   "metadata": {},
   "outputs": [
    {
     "data": {
      "text/plain": [
       "True"
      ]
     },
     "execution_count": 23,
     "metadata": {},
     "output_type": "execute_result"
    }
   ],
   "source": [
    "will_hit(\"y = -4x + 6\", (1, 2))"
   ]
  },
  {
   "cell_type": "code",
   "execution_count": null,
   "metadata": {},
   "outputs": [],
   "source": []
  }
 ],
 "metadata": {
  "kernelspec": {
   "display_name": "Python 3",
   "language": "python",
   "name": "python3"
  },
  "language_info": {
   "codemirror_mode": {
    "name": "ipython",
    "version": 3
   },
   "file_extension": ".py",
   "mimetype": "text/x-python",
   "name": "python",
   "nbconvert_exporter": "python",
   "pygments_lexer": "ipython3",
   "version": "3.6.5"
  }
 },
 "nbformat": 4,
 "nbformat_minor": 2
}

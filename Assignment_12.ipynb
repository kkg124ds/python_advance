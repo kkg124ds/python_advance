{
 "cells": [
  {
   "cell_type": "code",
   "execution_count": 1,
   "metadata": {},
   "outputs": [],
   "source": [
    "##Q1.\n",
    "\n",
    "def meme_sum(a, b):\n",
    "    # Convert the numbers to strings so we can iterate over their digits\n",
    "    a_str = str(a)\n",
    "    b_str = str(b)\n",
    "    # Pad the shorter number with leading zeros so they have the same length\n",
    "    if len(a_str) < len(b_str):\n",
    "        a_str = '0' * (len(b_str) - len(a_str)) + a_str\n",
    "    else:\n",
    "        b_str = '0' * (len(a_str) - len(b_str)) + b_str\n",
    "    # Add the digits one by one and concatenate the results\n",
    "    result_str = ''\n",
    "    for i in range(len(a_str)):\n",
    "        digit_sum = int(a_str[i]) + int(b_str[i])\n",
    "        result_str += str(digit_sum)\n",
    "    # Convert the concatenated string back to an integer\n",
    "    return int(result_str)\n"
   ]
  },
  {
   "cell_type": "code",
   "execution_count": 2,
   "metadata": {},
   "outputs": [
    {
     "data": {
      "text/plain": [
       "515"
      ]
     },
     "execution_count": 2,
     "metadata": {},
     "output_type": "execute_result"
    }
   ],
   "source": [
    "meme_sum(26, 39)"
   ]
  },
  {
   "cell_type": "code",
   "execution_count": 3,
   "metadata": {},
   "outputs": [
    {
     "data": {
      "text/plain": [
       "1103"
      ]
     },
     "execution_count": 3,
     "metadata": {},
     "output_type": "execute_result"
    }
   ],
   "source": [
    "meme_sum(122, 81)"
   ]
  },
  {
   "cell_type": "code",
   "execution_count": 4,
   "metadata": {},
   "outputs": [],
   "source": [
    "##Q2.\n",
    "\n",
    "def is_prime(num):\n",
    "    # Return False for negative numbers and 0 or 1\n",
    "    if num < 2:\n",
    "        return False\n",
    "    # Check if num is divisible by any number from 2 to its square root\n",
    "    for i in range(2, int(num ** 0.5) + 1):\n",
    "        if num % i == 0:\n",
    "            return False\n",
    "    # If num is not divisible by any number up to its square root, it is prime\n",
    "    return True\n",
    "\n",
    "def next_prime(num):\n",
    "    # If num is already prime, return it\n",
    "    if is_prime(num):\n",
    "        return num\n",
    "    # Otherwise, keep incrementing num until we find the next prime\n",
    "    while True:\n",
    "        num += 1\n",
    "        if is_prime(num):\n",
    "            return num\n"
   ]
  },
  {
   "cell_type": "code",
   "execution_count": 5,
   "metadata": {},
   "outputs": [
    {
     "data": {
      "text/plain": [
       "29"
      ]
     },
     "execution_count": 5,
     "metadata": {},
     "output_type": "execute_result"
    }
   ],
   "source": [
    "next_prime(24)"
   ]
  },
  {
   "cell_type": "code",
   "execution_count": 7,
   "metadata": {},
   "outputs": [
    {
     "data": {
      "text/plain": [
       "5"
      ]
     },
     "execution_count": 7,
     "metadata": {},
     "output_type": "execute_result"
    }
   ],
   "source": [
    "next_prime(5)"
   ]
  },
  {
   "cell_type": "code",
   "execution_count": 14,
   "metadata": {},
   "outputs": [],
   "source": [
    "##Q3.\n",
    "\n",
    "def ave_spd(time_up, rate_up, rate_down):\n",
    "    # Calculate the distance traveled uphill (in miles)\n",
    "    dist_up = (rate_up / 60) * time_up\n",
    "    # Calculate the distance traveled downhill (in miles)\n",
    "    dist_down = dist_up\n",
    "    # Calculate the total time taken (in hours)\n",
    "    time_total = (dist_up / rate_up) + (dist_down / rate_down)\n",
    "    # Calculate the average speed (in mph)\n",
    "    avg_speed = (dist_up + dist_down) / time_total\n",
    "    # Return the result as an integer\n",
    "    return int(avg_speed)\n"
   ]
  },
  {
   "cell_type": "code",
   "execution_count": 15,
   "metadata": {},
   "outputs": [
    {
     "data": {
      "text/plain": [
       "15"
      ]
     },
     "execution_count": 15,
     "metadata": {},
     "output_type": "execute_result"
    }
   ],
   "source": [
    "ave_spd(30, 10, 30)"
   ]
  },
  {
   "cell_type": "code",
   "execution_count": 16,
   "metadata": {},
   "outputs": [
    {
     "data": {
      "text/plain": [
       "12"
      ]
     },
     "execution_count": 16,
     "metadata": {},
     "output_type": "execute_result"
    }
   ],
   "source": [
    "ave_spd(30, 8, 24)"
   ]
  },
  {
   "cell_type": "code",
   "execution_count": 22,
   "metadata": {},
   "outputs": [],
   "source": [
    "##Q4.\n",
    "\n",
    "def kempner(n):\n",
    "    if n < 2:\n",
    "        return n\n",
    "    f = 1\n",
    "    for i in range(2, n+1):\n",
    "        f *= i\n",
    "        if f % n == 0:\n",
    "            return i\n",
    "    return n\n"
   ]
  },
  {
   "cell_type": "code",
   "execution_count": 25,
   "metadata": {},
   "outputs": [
    {
     "data": {
      "text/plain": [
       "3"
      ]
     },
     "execution_count": 25,
     "metadata": {},
     "output_type": "execute_result"
    }
   ],
   "source": [
    "kempner(6)"
   ]
  },
  {
   "cell_type": "code",
   "execution_count": 26,
   "metadata": {},
   "outputs": [],
   "source": [
    "##Q5.\n",
    "\n",
    "def boxes(weights):\n",
    "    total_weight = 0\n",
    "    num_boxes = 1\n",
    "    for weight in weights:\n",
    "        if total_weight + weight > 10:\n",
    "            num_boxes += 1\n",
    "            total_weight = weight\n",
    "        else:\n",
    "            total_weight += weight\n",
    "    return num_boxes\n"
   ]
  },
  {
   "cell_type": "code",
   "execution_count": 27,
   "metadata": {},
   "outputs": [
    {
     "data": {
      "text/plain": [
       "5"
      ]
     },
     "execution_count": 27,
     "metadata": {},
     "output_type": "execute_result"
    }
   ],
   "source": [
    "boxes([2, 1, 2, 5, 4, 3, 6, 1, 1, 9, 3, 2])"
   ]
  },
  {
   "cell_type": "code",
   "execution_count": null,
   "metadata": {},
   "outputs": [],
   "source": []
  }
 ],
 "metadata": {
  "kernelspec": {
   "display_name": "Python 3",
   "language": "python",
   "name": "python3"
  },
  "language_info": {
   "codemirror_mode": {
    "name": "ipython",
    "version": 3
   },
   "file_extension": ".py",
   "mimetype": "text/x-python",
   "name": "python",
   "nbconvert_exporter": "python",
   "pygments_lexer": "ipython3",
   "version": "3.6.5"
  }
 },
 "nbformat": 4,
 "nbformat_minor": 2
}

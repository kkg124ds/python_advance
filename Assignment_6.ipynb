{
 "cells": [
  {
   "cell_type": "code",
   "execution_count": 37,
   "metadata": {},
   "outputs": [],
   "source": [
    "##Q1.\n",
    "\n",
    "def find_the_difference(s, t):\n",
    "    \n",
    "    s_list = list(s)##Convert strings to lists for easier manipulation\n",
    "    t_list = list(t)\n",
    "    \n",
    "    s_list.sort()  ## Sort the lists in alphabetical order\n",
    "    t_list.sort()\n",
    "      \n",
    "    for i in range(len(s)): ##Compare each corresponding character in the two lists\n",
    "        if s_list[i] != t_list[i]:  \n",
    "            return t_list[i]    ## If the characters don't match, the added letter is in t_list\n",
    "    \n",
    "    # If all characters match except for the last one, the added letter is the last one in t_list\n",
    "    return t_list[-1]\n"
   ]
  },
  {
   "cell_type": "code",
   "execution_count": 38,
   "metadata": {},
   "outputs": [
    {
     "name": "stdout",
     "output_type": "stream",
     "text": [
      "e\n"
     ]
    }
   ],
   "source": [
    "print(find_the_difference(\"abcd\", \"abcde\"))"
   ]
  },
  {
   "cell_type": "code",
   "execution_count": 3,
   "metadata": {},
   "outputs": [
    {
     "data": {
      "text/plain": [
       "'y'"
      ]
     },
     "execution_count": 3,
     "metadata": {},
     "output_type": "execute_result"
    }
   ],
   "source": [
    "find_the_difference(\"\",\"y\")"
   ]
  },
  {
   "cell_type": "code",
   "execution_count": 4,
   "metadata": {},
   "outputs": [],
   "source": [
    "##Q2.\n",
    "\n",
    "def count_datatypes(*args): ##List order is:[int, str, bool, list, tuple, dictionary]\n",
    "    int_count = str_count = bool_count = list_count = tuple_count = dict_count = 0 \n",
    "    for arg in args:\n",
    "        if type(arg) == int:\n",
    "            int_count += 1\n",
    "        elif type(arg) == str:\n",
    "            str_count += 1\n",
    "        elif type(arg) == bool:\n",
    "            bool_count += 1\n",
    "        elif type(arg) == list:\n",
    "            list_count += 1\n",
    "        elif type(arg) == tuple:\n",
    "            tuple_count += 1\n",
    "        elif type(arg) == dict:\n",
    "            dict_count += 1\n",
    "    return [int_count, str_count, bool_count, list_count, tuple_count, dict_count]\n"
   ]
  },
  {
   "cell_type": "code",
   "execution_count": 5,
   "metadata": {},
   "outputs": [
    {
     "data": {
      "text/plain": [
       "[2, 0, 1, 2, 2, 0]"
      ]
     },
     "execution_count": 5,
     "metadata": {},
     "output_type": "execute_result"
    }
   ],
   "source": [
    "count_datatypes(4, 21, (\"ES\", \"EN\"), (\"a\", \"b\"), False, [1, 2, 3], [4, 5, 6])"
   ]
  },
  {
   "cell_type": "code",
   "execution_count": 33,
   "metadata": {},
   "outputs": [],
   "source": [
    "##Q3.\n",
    "\n",
    "def fib_str(n, chars):\n",
    "    fib = chars[:2]  # Initialize the Fibonacci sequence with the two initial characters\n",
    "    while len(fib) < n:  # Loop until we have n elements in the sequence\n",
    "        fib.append(fib[-1] + fib[-2])  # Concatenate the previous two elements to get the next element\n",
    "    return \", \".join(fib)  # Join the elements with commas and return as a string\n"
   ]
  },
  {
   "cell_type": "code",
   "execution_count": 34,
   "metadata": {},
   "outputs": [
    {
     "name": "stdout",
     "output_type": "stream",
     "text": [
      "j, h, hj\n"
     ]
    }
   ],
   "source": [
    "print(fib_str(3, ['j', 'h']))"
   ]
  },
  {
   "cell_type": "code",
   "execution_count": 35,
   "metadata": {},
   "outputs": [
    {
     "name": "stdout",
     "output_type": "stream",
     "text": [
      "e, a, ae, aea, aeaae\n"
     ]
    }
   ],
   "source": [
    "print(fib_str(5, ['e', 'a'])) "
   ]
  },
  {
   "cell_type": "code",
   "execution_count": 36,
   "metadata": {},
   "outputs": [
    {
     "name": "stdout",
     "output_type": "stream",
     "text": [
      "n, k, kn, knk, knkkn, knkknknk\n"
     ]
    }
   ],
   "source": [
    "print(fib_str(6, [\"n\", \"k\"]))"
   ]
  },
  {
   "cell_type": "code",
   "execution_count": 20,
   "metadata": {},
   "outputs": [],
   "source": [
    "##Q4.\n",
    "\n",
    "def ones_threes_nines(n):\n",
    "    nines = n // 9  # integer division\n",
    "    threes = (n - nines*9) // 3\n",
    "    ones = n - nines*9 - threes*3\n",
    "    return f\"nines:{nines}, threes:{threes}, ones:{ones}\"\n"
   ]
  },
  {
   "cell_type": "code",
   "execution_count": 21,
   "metadata": {},
   "outputs": [
    {
     "data": {
      "text/plain": [
       "'nines:1, threes:2, ones:0'"
      ]
     },
     "execution_count": 21,
     "metadata": {},
     "output_type": "execute_result"
    }
   ],
   "source": [
    "ones_threes_nines(15)"
   ]
  },
  {
   "cell_type": "code",
   "execution_count": 23,
   "metadata": {},
   "outputs": [
    {
     "data": {
      "text/plain": [
       "'nines:1, threes:0, ones:1'"
      ]
     },
     "execution_count": 23,
     "metadata": {},
     "output_type": "execute_result"
    }
   ],
   "source": [
    "ones_threes_nines(10)"
   ]
  },
  {
   "cell_type": "code",
   "execution_count": 27,
   "metadata": {},
   "outputs": [],
   "source": [
    "##Q5.\n",
    "\n",
    "def fib(n):\n",
    "    if n == 0:\n",
    "        return 0\n",
    "    elif n == 1:\n",
    "        return 1\n",
    "    else:\n",
    "        a, b = 0, 1\n",
    "        for i in range(2, n+1):\n",
    "            a, b = b, a+b\n",
    "        return b\n"
   ]
  },
  {
   "cell_type": "code",
   "execution_count": 32,
   "metadata": {},
   "outputs": [
    {
     "data": {
      "text/plain": [
       "8"
      ]
     },
     "execution_count": 32,
     "metadata": {},
     "output_type": "execute_result"
    }
   ],
   "source": [
    "fib(6) "
   ]
  },
  {
   "cell_type": "code",
   "execution_count": 29,
   "metadata": {},
   "outputs": [
    {
     "data": {
      "text/plain": [
       "1"
      ]
     },
     "execution_count": 29,
     "metadata": {},
     "output_type": "execute_result"
    }
   ],
   "source": [
    "fib(2)"
   ]
  },
  {
   "cell_type": "code",
   "execution_count": 30,
   "metadata": {},
   "outputs": [
    {
     "data": {
      "text/plain": [
       "1"
      ]
     },
     "execution_count": 30,
     "metadata": {},
     "output_type": "execute_result"
    }
   ],
   "source": [
    "fib(1)"
   ]
  },
  {
   "cell_type": "code",
   "execution_count": null,
   "metadata": {},
   "outputs": [],
   "source": []
  }
 ],
 "metadata": {
  "kernelspec": {
   "display_name": "Python 3",
   "language": "python",
   "name": "python3"
  },
  "language_info": {
   "codemirror_mode": {
    "name": "ipython",
    "version": 3
   },
   "file_extension": ".py",
   "mimetype": "text/x-python",
   "name": "python",
   "nbconvert_exporter": "python",
   "pygments_lexer": "ipython3",
   "version": "3.6.5"
  }
 },
 "nbformat": 4,
 "nbformat_minor": 2
}

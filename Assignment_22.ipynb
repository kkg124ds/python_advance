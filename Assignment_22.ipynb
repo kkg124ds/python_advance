{
 "cells": [
  {
   "cell_type": "code",
   "execution_count": 4,
   "metadata": {},
   "outputs": [],
   "source": [
    "##Q1.\n",
    "\n",
    "class Smoothie:\n",
    "    ingredients_price = {\n",
    "        \"Strawberries\": 1.50,\n",
    "        \"Banana\": 0.50,\n",
    "        \"Mango\": 2.50,\n",
    "        \"Blueberries\": 1.00,\n",
    "        \"Raspberries\": 1.00,\n",
    "        \"Apple\": 1.75,\n",
    "        \"Pineapple\": 3.50\n",
    "    }\n",
    "\n",
    "    def __init__(self, ingredients):\n",
    "        self.ingredients = ingredients\n",
    "\n",
    "    def get_cost(self):\n",
    "        return \"${:.2f}\".format(sum([Smoothie.ingredients_price[i] for i in self.ingredients]))\n",
    "\n",
    "    def get_price(self):\n",
    "        cost = sum([Smoothie.ingredients_price[i] for i in self.ingredients])\n",
    "        price = cost + (cost * 1.5)\n",
    "        return \"${:.2f}\".format(price)\n",
    "\n",
    "    def get_name(self):\n",
    "        ingredients_sorted = sorted(self.ingredients)\n",
    "        if len(ingredients_sorted) > 1:\n",
    "            name = \" \".join([i[:-1] if i.endswith(\"berries\") else i for i in ingredients_sorted])\n",
    "            name += \" Fusion\"\n",
    "        else:\n",
    "            name = ingredients_sorted[0] + \" Smoothie\"\n",
    "        return name\n"
   ]
  },
  {
   "cell_type": "code",
   "execution_count": 8,
   "metadata": {},
   "outputs": [
    {
     "name": "stdout",
     "output_type": "stream",
     "text": [
      "['Banana']\n",
      "$0.50\n",
      "$1.25\n",
      "Banana Smoothie\n",
      "['Raspberries', 'Strawberries', 'Blueberries']\n",
      "$3.50\n",
      "$8.75\n",
      "Blueberrie Raspberrie Strawberrie Fusion\n"
     ]
    }
   ],
   "source": [
    "s1 = Smoothie([\"Banana\"])\n",
    "print(s1.ingredients)\n",
    "print(s1.get_cost())\n",
    "print(s1.get_price())\n",
    "print(s1.get_name())\n",
    "\n",
    "s2 = Smoothie([\"Raspberries\", \"Strawberries\", \"Blueberries\"])\n",
    "print(s2.ingredients)\n",
    "print(s2.get_cost())\n",
    "print(s2.get_price())\n",
    "print(s2.get_name())\n"
   ]
  },
  {
   "cell_type": "code",
   "execution_count": 9,
   "metadata": {},
   "outputs": [],
   "source": [
    "##Q2.\n",
    "\n",
    "class Testpaper:\n",
    "    def __init__(self, subject, markscheme, pass_mark):\n",
    "        self.subject = subject\n",
    "        self.markscheme = markscheme\n",
    "        self.pass_mark = pass_mark\n",
    "        \n",
    "class Student:\n",
    "    def __init__(self):\n",
    "        self.tests_taken = \"No tests taken\"\n",
    "        \n",
    "    def take_test(self, paper, answers):\n",
    "        score = sum([1 for i in range(len(answers)) if answers[i] == paper.markscheme[i]])\n",
    "        percentage = (score / len(paper.markscheme)) * 100\n",
    "        if percentage >= float(paper.pass_mark[:-1]):\n",
    "            result = \"Passed! ({:.0f}%)\".format(percentage)\n",
    "        else:\n",
    "            result = \"Failed! ({:.0f}%)\".format(percentage)\n",
    "        if self.tests_taken == \"No tests taken\":\n",
    "            self.tests_taken = {paper.subject: result}\n",
    "        else:\n",
    "            self.tests_taken[paper.subject] = result\n"
   ]
  },
  {
   "cell_type": "code",
   "execution_count": 10,
   "metadata": {},
   "outputs": [
    {
     "name": "stdout",
     "output_type": "stream",
     "text": [
      "No tests taken\n",
      "{'Maths': 'Passed! (80%)'}\n",
      "{'Chemistry': 'Failed! (25%)', 'Computing': 'Failed! (43%)'}\n"
     ]
    }
   ],
   "source": [
    "paper1 = Testpaper(\"Maths\", [\"1A\", \"2C\", \"3D\", \"4A\", \"5A\"], \"60%\")\n",
    "paper2 = Testpaper(\"Chemistry\", [\"1C\", \"2C\", \"3D\", \"4A\"], \"75%\")\n",
    "paper3 = Testpaper(\"Computing\", [\"1D\", \"2C\", \"3C\", \"4B\", \"5D\", \"6C\", \"7A\"], \"75%\")\n",
    "student1 = Student()\n",
    "student2 = Student()\n",
    "print(student1.tests_taken)  \n",
    "student1.take_test(paper1, [\"1A\", \"2D\", \"3D\", \"4A\", \"5A\"])\n",
    "print(student1.tests_taken) \n",
    "student2.take_test(paper2, [\"1C\", \"2D\", \"3A\", \"4C\"])\n",
    "student2.take_test(paper3, [\"1A\", \"2C\", \"3A\", \"4C\", \"5D\", \"6C\", \"7B\"])\n",
    "print(student2.tests_taken)  \n"
   ]
  },
  {
   "cell_type": "code",
   "execution_count": 17,
   "metadata": {},
   "outputs": [],
   "source": [
    "##Q3.\n",
    "\n",
    "class Train:\n",
    "    def __init__(self, destinations, expected_time):\n",
    "        self.destinations = destinations\n",
    "        self.expected_time = expected_time\n",
    "\n",
    "def manage_delays(train, destination, delay):\n",
    "    if destination in train.destinations:\n",
    "        train.expected_time = increment_time(train.expected_time, delay)\n",
    "\n",
    "def increment_time(time_str, delay):\n",
    "    hours, minutes = map(int, time_str.split(':'))\n",
    "    total_minutes = hours * 60 + minutes + delay\n",
    "    new_hours, new_minutes = divmod(total_minutes, 60)\n",
    "    return '{:02d}:{:02d}'.format(new_hours, new_minutes)\n"
   ]
  },
  {
   "cell_type": "code",
   "execution_count": 18,
   "metadata": {},
   "outputs": [
    {
     "name": "stdout",
     "output_type": "stream",
     "text": [
      "13:04\n",
      "14:20\n",
      "14:22\n"
     ]
    }
   ],
   "source": [
    "trains = [\n",
    "    Train([\"Townsville\", \"Suburbia\", \"Urbantska\"], \"13:04\"),\n",
    "    Train([\"Farmsdale\", \"Suburbia\", \"Lakeside Valley\"], \"13:20\"),\n",
    "    Train([\"Suburbia\", \"Townsville\", \"Lakeside Valley\"], \"13:22\")\n",
    "]\n",
    "\n",
    "for t in trains:\n",
    "    manage_delays(t, \"Lakeside Valley\", 60)\n",
    "\n",
    "print(trains[0].expected_time)  \n",
    "print(trains[1].expected_time) \n",
    "print(trains[2].expected_time)  \n"
   ]
  },
  {
   "cell_type": "code",
   "execution_count": 3,
   "metadata": {},
   "outputs": [],
   "source": [
    "##Q4.\n",
    "\n",
    "class Minecart:\n",
    "    def __init__(self, velocity):\n",
    "        self.velocity = velocity\n",
    "\n",
    "class Track:\n",
    "    def __init__(self, shorthand):\n",
    "        self.shorthand = shorthand\n",
    "    \n",
    "    def interact(self, minecart):\n",
    "        if self.shorthand == '-->':\n",
    "            if minecart.velocity < 8:\n",
    "                minecart.velocity += 2.67\n",
    "        elif self.shorthand == '<-->':\n",
    "            pass\n",
    "        elif self.shorthand == '<--':\n",
    "            if minecart.velocity > 0:\n",
    "                minecart.velocity -= 2.67\n",
    "                if minecart.velocity < 0:\n",
    "                    minecart.velocity = 0\n",
    "        elif self.shorthand == '---':\n",
    "            if minecart.velocity > 0:\n",
    "                minecart.velocity -= 1\n",
    "                if minecart.velocity < 0:\n",
    "                    minecart.velocity = 0\n",
    "\n",
    "def mine_run(tracks):\n",
    "    minecart = Minecart(0)\n",
    "    for i in range(len(tracks)):\n",
    "        track = Track(tracks[i])\n",
    "        track.interact(minecart)\n",
    "        if minecart.velocity == 0 and i != len(tracks)-1:\n",
    "            return i\n",
    "    return True\n"
   ]
  },
  {
   "cell_type": "code",
   "execution_count": 4,
   "metadata": {},
   "outputs": [
    {
     "name": "stdout",
     "output_type": "stream",
     "text": [
      "True\n",
      "1\n"
     ]
    }
   ],
   "source": [
    "print(mine_run([\"-->\", \"-->\", \"-->\", \"<--\", \"<--\", \"<--\"]))  \n",
    "print(mine_run([\"-->\", \"<--\", \"-->\", \"-->\", \"<-->\", \"---\"]))  \n"
   ]
  },
  {
   "cell_type": "code",
   "execution_count": null,
   "metadata": {},
   "outputs": [],
   "source": []
  }
 ],
 "metadata": {
  "kernelspec": {
   "display_name": "Python 3",
   "language": "python",
   "name": "python3"
  },
  "language_info": {
   "codemirror_mode": {
    "name": "ipython",
    "version": 3
   },
   "file_extension": ".py",
   "mimetype": "text/x-python",
   "name": "python",
   "nbconvert_exporter": "python",
   "pygments_lexer": "ipython3",
   "version": "3.6.5"
  }
 },
 "nbformat": 4,
 "nbformat_minor": 2
}
